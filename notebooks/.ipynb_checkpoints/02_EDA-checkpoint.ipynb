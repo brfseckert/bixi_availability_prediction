{
 "cells": [
  {
   "cell_type": "code",
   "execution_count": null,
   "id": "fcae2f5f-f566-4c78-8b37-616d4566a34f",
   "metadata": {},
   "outputs": [],
   "source": [
    "%load_ext autoreload\n",
    "%autoreload 2"
   ]
  },
  {
   "cell_type": "markdown",
   "id": "d7623acd-e8d5-4b78-ac05-5f07a7868f32",
   "metadata": {},
   "source": [
    "# Bike number of spots prediction EDA"
   ]
  },
  {
   "cell_type": "markdown",
   "id": "ec080a13-ed65-486d-a9a3-caa5282e99be",
   "metadata": {},
   "source": [
    "**Objective**: Predict the minimum number of spots available by station, hour and date from April to November.\n",
    "\n",
    "This notebook's purpose is to conduct a Exploratory Data Analysis (EDA) for both historical bixi rides and weather data. Some of the questions we are looking for are the following:\n",
    "\n",
    "- Loadining data and cleaning data\n",
    "    - Standarize stations names\n",
    "- How many bixi stations exist ?\n",
    "- What are the number of average rides per day of the week, month and hour of the day ?\n",
    "- Explore the most popular stations and rides\n",
    "- What are the number of average available spots day of the week, month and hour of the day ?\n",
    "- Explore weather data\n",
    "- How does the number of rides correlate with weather (i.e precipiation, temperature, sunnny days) ?\n",
    "\n",
    "**For simplicity, we'll perform the subsequent analysis using data obatined by running the developed** `RidesDataPipeline` **for years 2023 to 2024**"
   ]
  },
  {
   "cell_type": "code",
   "execution_count": 7,
   "id": "e80a9bc1-630c-469b-aa0c-32c1b3cc2140",
   "metadata": {},
   "outputs": [],
   "source": [
    "# declaring dependencies\n",
    "from pandas import Series, merge, read_csv, to_datetime, Grouper\n",
    "import datetime\n",
    "import seaborn as sns\n",
    "import matplotlib.pyplot as plt\n",
    "import requests\n",
    "import unicodedata\n",
    "from utils import standarize_station_name\n",
    "from bixi_availability_prediction.etl import get_stations_capacity\n",
    "from constants import STATION_CAPACITY_URL"
   ]
  },
  {
   "cell_type": "markdown",
   "id": "f19f19c4-ce68-47a4-af15-06d09c8d4867",
   "metadata": {},
   "source": [
    "## Loadining data and cleaning data"
   ]
  },
  {
   "cell_type": "markdown",
   "id": "9389360a-e3bc-44e8-9f2e-25f3feeaa6dd",
   "metadata": {},
   "source": [
    "In order to proceed with the subsequent steps, we'll first load the historical rides data and perform some general cleanining steps"
   ]
  },
  {
   "cell_type": "code",
   "execution_count": 2,
   "id": "5e7408be-731f-4dcb-adb2-1330e3e4fbd5",
   "metadata": {},
   "outputs": [],
   "source": [
    "hist_rides=read_csv('historical_rides_data_2023_to_2024.csv')"
   ]
  },
  {
   "cell_type": "code",
   "execution_count": 3,
   "id": "ece3ec60-b29c-4a27-acd3-35f571b49bf7",
   "metadata": {},
   "outputs": [],
   "source": [
    "# setting column for ride number\n",
    "# to facilitate grouping operations\n",
    "hist_rides['RIDE'] = 1"
   ]
  },
  {
   "cell_type": "code",
   "execution_count": 4,
   "id": "867ec8c2-b76e-4f3d-b801-b14c6716ccf4",
   "metadata": {},
   "outputs": [],
   "source": [
    "# enforcing datatime data type\n",
    "hist_rides = hist_rides.assign(\n",
    "    start_date=to_datetime(hist_rides['start_date']),\n",
    "    end_date=to_datetime(hist_rides['end_date'])\n",
    ")"
   ]
  },
  {
   "cell_type": "code",
   "execution_count": 5,
   "id": "4602e1e9-27df-4b6c-9720-7f86ea038ac8",
   "metadata": {},
   "outputs": [
    {
     "data": {
      "text/html": [
       "<div>\n",
       "<style scoped>\n",
       "    .dataframe tbody tr th:only-of-type {\n",
       "        vertical-align: middle;\n",
       "    }\n",
       "\n",
       "    .dataframe tbody tr th {\n",
       "        vertical-align: top;\n",
       "    }\n",
       "\n",
       "    .dataframe thead th {\n",
       "        text-align: right;\n",
       "    }\n",
       "</style>\n",
       "<table border=\"1\" class=\"dataframe\">\n",
       "  <thead>\n",
       "    <tr style=\"text-align: right;\">\n",
       "      <th></th>\n",
       "      <th>Unnamed: 0</th>\n",
       "      <th>start_date</th>\n",
       "      <th>end_date</th>\n",
       "      <th>name_start_station</th>\n",
       "      <th>name_end_station</th>\n",
       "      <th>latitude_start_station</th>\n",
       "      <th>longitude_start_station</th>\n",
       "      <th>latitude_end_station</th>\n",
       "      <th>longitude_end_station</th>\n",
       "      <th>RIDE</th>\n",
       "    </tr>\n",
       "  </thead>\n",
       "  <tbody>\n",
       "    <tr>\n",
       "      <th>0</th>\n",
       "      <td>0</td>\n",
       "      <td>2023-10-25 20:44:56.468</td>\n",
       "      <td>2023-10-25 20:51:32.113</td>\n",
       "      <td>Métro Mont-Royal (Utilités publiques / Rivard)</td>\n",
       "      <td>Chabot / Mont-Royal</td>\n",
       "      <td>45.524236</td>\n",
       "      <td>-73.581552</td>\n",
       "      <td>45.534134</td>\n",
       "      <td>-73.573524</td>\n",
       "      <td>1</td>\n",
       "    </tr>\n",
       "    <tr>\n",
       "      <th>1</th>\n",
       "      <td>1</td>\n",
       "      <td>2023-10-25 21:48:55.502</td>\n",
       "      <td>2023-10-25 22:12:47.951</td>\n",
       "      <td>Rielle / Wellington</td>\n",
       "      <td>St-Jacques / McGill</td>\n",
       "      <td>45.460156</td>\n",
       "      <td>-73.567001</td>\n",
       "      <td>45.501441</td>\n",
       "      <td>-73.560144</td>\n",
       "      <td>1</td>\n",
       "    </tr>\n",
       "    <tr>\n",
       "      <th>2</th>\n",
       "      <td>2</td>\n",
       "      <td>2023-10-26 02:01:45.974</td>\n",
       "      <td>2023-10-26 02:06:32.418</td>\n",
       "      <td>Ste-Catherine / Drummond</td>\n",
       "      <td>Peel / Ottawa</td>\n",
       "      <td>45.498588</td>\n",
       "      <td>-73.574278</td>\n",
       "      <td>45.494200</td>\n",
       "      <td>-73.559985</td>\n",
       "      <td>1</td>\n",
       "    </tr>\n",
       "    <tr>\n",
       "      <th>3</th>\n",
       "      <td>3</td>\n",
       "      <td>2023-10-25 21:31:29.932</td>\n",
       "      <td>2023-10-25 21:36:54.383</td>\n",
       "      <td>Boyer / du Mont-Royal</td>\n",
       "      <td>de l'Hôtel-de-Ville / Rachel</td>\n",
       "      <td>45.527432</td>\n",
       "      <td>-73.579917</td>\n",
       "      <td>45.519897</td>\n",
       "      <td>-73.580106</td>\n",
       "      <td>1</td>\n",
       "    </tr>\n",
       "    <tr>\n",
       "      <th>4</th>\n",
       "      <td>4</td>\n",
       "      <td>2023-10-25 21:40:06.571</td>\n",
       "      <td>2023-10-25 21:47:20.298</td>\n",
       "      <td>Clark / Ontario</td>\n",
       "      <td>Wolfe / Robin</td>\n",
       "      <td>45.510625</td>\n",
       "      <td>-73.566903</td>\n",
       "      <td>45.519581</td>\n",
       "      <td>-73.560116</td>\n",
       "      <td>1</td>\n",
       "    </tr>\n",
       "  </tbody>\n",
       "</table>\n",
       "</div>"
      ],
      "text/plain": [
       "   Unnamed: 0              start_date                end_date  \\\n",
       "0           0 2023-10-25 20:44:56.468 2023-10-25 20:51:32.113   \n",
       "1           1 2023-10-25 21:48:55.502 2023-10-25 22:12:47.951   \n",
       "2           2 2023-10-26 02:01:45.974 2023-10-26 02:06:32.418   \n",
       "3           3 2023-10-25 21:31:29.932 2023-10-25 21:36:54.383   \n",
       "4           4 2023-10-25 21:40:06.571 2023-10-25 21:47:20.298   \n",
       "\n",
       "                               name_start_station  \\\n",
       "0  Métro Mont-Royal (Utilités publiques / Rivard)   \n",
       "1                             Rielle / Wellington   \n",
       "2                        Ste-Catherine / Drummond   \n",
       "3                           Boyer / du Mont-Royal   \n",
       "4                                 Clark / Ontario   \n",
       "\n",
       "               name_end_station  latitude_start_station  \\\n",
       "0           Chabot / Mont-Royal               45.524236   \n",
       "1           St-Jacques / McGill               45.460156   \n",
       "2                 Peel / Ottawa               45.498588   \n",
       "3  de l'Hôtel-de-Ville / Rachel               45.527432   \n",
       "4                 Wolfe / Robin               45.510625   \n",
       "\n",
       "   longitude_start_station  latitude_end_station  longitude_end_station  RIDE  \n",
       "0               -73.581552             45.534134             -73.573524     1  \n",
       "1               -73.567001             45.501441             -73.560144     1  \n",
       "2               -73.574278             45.494200             -73.559985     1  \n",
       "3               -73.579917             45.519897             -73.580106     1  \n",
       "4               -73.566903             45.519581             -73.560116     1  "
      ]
     },
     "execution_count": 5,
     "metadata": {},
     "output_type": "execute_result"
    }
   ],
   "source": [
    "hist_rides.head()"
   ]
  },
  {
   "cell_type": "markdown",
   "id": "fdd85820-9556-4333-8c34-0fedd7857cda",
   "metadata": {},
   "source": [
    "### Standarize stations names"
   ]
  },
  {
   "cell_type": "markdown",
   "id": "ec4dfedc-6db5-4726-ae94-aec15d663a01",
   "metadata": {},
   "source": [
    "Station names are not standard overtime. For example, for certain years, non-ASCII are present while is not for others. The same happens with spaces and casining. Therefore, a utility function to standarize the name need to be developed and subsequently applied on rides/statations capacity datasets.\n",
    "\n",
    "One factor to consider when designing this function is the size of the rides data. There are millions of rows for a single year which could be problematic if we were to apply the standarization for each line even considerining the use of vectorized functions. Hence, our approach will to first indetify the unique station names, apply the standarization, create a dictionary for reference and then apply that dictionary to the original pandas series."
   ]
  },
  {
   "cell_type": "code",
   "execution_count": 6,
   "id": "765ae04b-67ff-4ccf-9fe9-40a4a14bbf0d",
   "metadata": {},
   "outputs": [],
   "source": [
    "def standarize_station_name(series: Series) -> Series:\n",
    "    \"\"\"\n",
    "    Remove non-ASCII charcaters, lowercase and strip station name\n",
    "    \"\"\"\n",
    "\n",
    "    unique_stations = series.unique()\n",
    "    cleaned_station_names = {\n",
    "        station: (\n",
    "            station.encode('ascii', 'ignore')\n",
    "            .decode('ascii')\n",
    "            .lower()\n",
    "            .replace(' ', '')\n",
    "            .replace('/', '_')\n",
    "            .strip()\n",
    "        )\n",
    "        for station in unique_stations\n",
    "    }\n",
    "\n",
    "    return Series(\n",
    "        cleaned_station_names[station] \n",
    "        for station in series\n",
    "    )"
   ]
  },
  {
   "cell_type": "code",
   "execution_count": 8,
   "id": "275b6809-a359-4cb5-9f99-d9d4c95e17ad",
   "metadata": {},
   "outputs": [],
   "source": [
    "# cleaning station names\n",
    "hist_rides = hist_rides.dropna(subset=['name_start_station','name_end_station'])\n",
    "hist_rides['name_start_station'] = standarize_station_name(hist_rides['name_start_station'])\n",
    "hist_rides['name_end_station'] = standarize_station_name(hist_rides['name_end_station'])"
   ]
  },
  {
   "cell_type": "markdown",
   "id": "29edea01-dfd8-4e6c-82a3-f5f86319ee4a",
   "metadata": {},
   "source": [
    "## How many bixi stations exist ?"
   ]
  },
  {
   "cell_type": "code",
   "execution_count": 9,
   "id": "c2713a33-2648-4506-aef0-7184ec75362b",
   "metadata": {},
   "outputs": [
    {
     "data": {
      "text/plain": [
       "1232"
      ]
     },
     "execution_count": 9,
     "metadata": {},
     "output_type": "execute_result"
    }
   ],
   "source": [
    "len(hist_rides['name_start_station'].unique())"
   ]
  },
  {
   "cell_type": "markdown",
   "id": "47683a4d-41cc-40a0-8b79-78192f0cd669",
   "metadata": {},
   "source": [
    "After removing the duplicates, we can observe that there are around 1200 unique stations in Montreal"
   ]
  },
  {
   "cell_type": "markdown",
   "id": "ac9005bc-6071-4229-b2fa-f9b70475cbc2",
   "metadata": {},
   "source": [
    "## What are the number of average rides per day of the week, month and hour of the day ?"
   ]
  },
  {
   "cell_type": "code",
   "execution_count": 11,
   "id": "46f81f17-1c38-43dd-9ad2-946794fc88e1",
   "metadata": {},
   "outputs": [
    {
     "data": {
      "text/html": [
       "<div>\n",
       "<style scoped>\n",
       "    .dataframe tbody tr th:only-of-type {\n",
       "        vertical-align: middle;\n",
       "    }\n",
       "\n",
       "    .dataframe tbody tr th {\n",
       "        vertical-align: top;\n",
       "    }\n",
       "\n",
       "    .dataframe thead th {\n",
       "        text-align: right;\n",
       "    }\n",
       "</style>\n",
       "<table border=\"1\" class=\"dataframe\">\n",
       "  <thead>\n",
       "    <tr style=\"text-align: right;\">\n",
       "      <th></th>\n",
       "      <th>Unnamed: 0</th>\n",
       "      <th>start_date</th>\n",
       "      <th>end_date</th>\n",
       "      <th>name_start_station</th>\n",
       "      <th>name_end_station</th>\n",
       "      <th>latitude_start_station</th>\n",
       "      <th>longitude_start_station</th>\n",
       "      <th>latitude_end_station</th>\n",
       "      <th>longitude_end_station</th>\n",
       "      <th>RIDE</th>\n",
       "    </tr>\n",
       "  </thead>\n",
       "  <tbody>\n",
       "    <tr>\n",
       "      <th>0</th>\n",
       "      <td>0</td>\n",
       "      <td>2023-10-25 20:44:56.468</td>\n",
       "      <td>2023-10-25 20:51:32.113</td>\n",
       "      <td>mtromont-royal(utilitspubliques_rivard)</td>\n",
       "      <td>chabot_mont-royal</td>\n",
       "      <td>45.524236</td>\n",
       "      <td>-73.581552</td>\n",
       "      <td>45.534134</td>\n",
       "      <td>-73.573524</td>\n",
       "      <td>1</td>\n",
       "    </tr>\n",
       "    <tr>\n",
       "      <th>1</th>\n",
       "      <td>1</td>\n",
       "      <td>2023-10-25 21:48:55.502</td>\n",
       "      <td>2023-10-25 22:12:47.951</td>\n",
       "      <td>rielle_wellington</td>\n",
       "      <td>st-jacques_mcgill</td>\n",
       "      <td>45.460156</td>\n",
       "      <td>-73.567001</td>\n",
       "      <td>45.501441</td>\n",
       "      <td>-73.560144</td>\n",
       "      <td>1</td>\n",
       "    </tr>\n",
       "    <tr>\n",
       "      <th>2</th>\n",
       "      <td>2</td>\n",
       "      <td>2023-10-26 02:01:45.974</td>\n",
       "      <td>2023-10-26 02:06:32.418</td>\n",
       "      <td>ste-catherine_drummond</td>\n",
       "      <td>peel_ottawa</td>\n",
       "      <td>45.498588</td>\n",
       "      <td>-73.574278</td>\n",
       "      <td>45.494200</td>\n",
       "      <td>-73.559985</td>\n",
       "      <td>1</td>\n",
       "    </tr>\n",
       "    <tr>\n",
       "      <th>3</th>\n",
       "      <td>3</td>\n",
       "      <td>2023-10-25 21:31:29.932</td>\n",
       "      <td>2023-10-25 21:36:54.383</td>\n",
       "      <td>boyer_dumont-royal</td>\n",
       "      <td>del'htel-de-ville_rachel</td>\n",
       "      <td>45.527432</td>\n",
       "      <td>-73.579917</td>\n",
       "      <td>45.519897</td>\n",
       "      <td>-73.580106</td>\n",
       "      <td>1</td>\n",
       "    </tr>\n",
       "    <tr>\n",
       "      <th>4</th>\n",
       "      <td>4</td>\n",
       "      <td>2023-10-25 21:40:06.571</td>\n",
       "      <td>2023-10-25 21:47:20.298</td>\n",
       "      <td>clark_ontario</td>\n",
       "      <td>wolfe_robin</td>\n",
       "      <td>45.510625</td>\n",
       "      <td>-73.566903</td>\n",
       "      <td>45.519581</td>\n",
       "      <td>-73.560116</td>\n",
       "      <td>1</td>\n",
       "    </tr>\n",
       "  </tbody>\n",
       "</table>\n",
       "</div>"
      ],
      "text/plain": [
       "   Unnamed: 0              start_date                end_date  \\\n",
       "0           0 2023-10-25 20:44:56.468 2023-10-25 20:51:32.113   \n",
       "1           1 2023-10-25 21:48:55.502 2023-10-25 22:12:47.951   \n",
       "2           2 2023-10-26 02:01:45.974 2023-10-26 02:06:32.418   \n",
       "3           3 2023-10-25 21:31:29.932 2023-10-25 21:36:54.383   \n",
       "4           4 2023-10-25 21:40:06.571 2023-10-25 21:47:20.298   \n",
       "\n",
       "                        name_start_station          name_end_station  \\\n",
       "0  mtromont-royal(utilitspubliques_rivard)         chabot_mont-royal   \n",
       "1                        rielle_wellington         st-jacques_mcgill   \n",
       "2                   ste-catherine_drummond               peel_ottawa   \n",
       "3                       boyer_dumont-royal  del'htel-de-ville_rachel   \n",
       "4                            clark_ontario               wolfe_robin   \n",
       "\n",
       "   latitude_start_station  longitude_start_station  latitude_end_station  \\\n",
       "0               45.524236               -73.581552             45.534134   \n",
       "1               45.460156               -73.567001             45.501441   \n",
       "2               45.498588               -73.574278             45.494200   \n",
       "3               45.527432               -73.579917             45.519897   \n",
       "4               45.510625               -73.566903             45.519581   \n",
       "\n",
       "   longitude_end_station  RIDE  \n",
       "0             -73.573524     1  \n",
       "1             -73.560144     1  \n",
       "2             -73.559985     1  \n",
       "3             -73.580106     1  \n",
       "4             -73.560116     1  "
      ]
     },
     "execution_count": 11,
     "metadata": {},
     "output_type": "execute_result"
    }
   ],
   "source": [
    "hist_rides.head()"
   ]
  },
  {
   "cell_type": "code",
   "execution_count": 13,
   "id": "2b95456a-7018-4081-bc0d-c2ea511aa2a1",
   "metadata": {},
   "outputs": [
    {
     "data": {
      "text/html": [
       "<div>\n",
       "<style scoped>\n",
       "    .dataframe tbody tr th:only-of-type {\n",
       "        vertical-align: middle;\n",
       "    }\n",
       "\n",
       "    .dataframe tbody tr th {\n",
       "        vertical-align: top;\n",
       "    }\n",
       "\n",
       "    .dataframe thead th {\n",
       "        text-align: right;\n",
       "    }\n",
       "</style>\n",
       "<table border=\"1\" class=\"dataframe\">\n",
       "  <thead>\n",
       "    <tr style=\"text-align: right;\">\n",
       "      <th></th>\n",
       "      <th>start_date</th>\n",
       "      <th>RIDE</th>\n",
       "    </tr>\n",
       "  </thead>\n",
       "  <tbody>\n",
       "    <tr>\n",
       "      <th>0</th>\n",
       "      <td>2023-04-12</td>\n",
       "      <td>7034</td>\n",
       "    </tr>\n",
       "    <tr>\n",
       "      <th>1</th>\n",
       "      <td>2023-04-13</td>\n",
       "      <td>31630</td>\n",
       "    </tr>\n",
       "    <tr>\n",
       "      <th>2</th>\n",
       "      <td>2023-04-14</td>\n",
       "      <td>42935</td>\n",
       "    </tr>\n",
       "    <tr>\n",
       "      <th>3</th>\n",
       "      <td>2023-04-15</td>\n",
       "      <td>52882</td>\n",
       "    </tr>\n",
       "    <tr>\n",
       "      <th>4</th>\n",
       "      <td>2023-04-16</td>\n",
       "      <td>52548</td>\n",
       "    </tr>\n",
       "    <tr>\n",
       "      <th>...</th>\n",
       "      <td>...</td>\n",
       "      <td>...</td>\n",
       "    </tr>\n",
       "    <tr>\n",
       "      <th>626</th>\n",
       "      <td>2024-12-28</td>\n",
       "      <td>1438</td>\n",
       "    </tr>\n",
       "    <tr>\n",
       "      <th>627</th>\n",
       "      <td>2024-12-29</td>\n",
       "      <td>1388</td>\n",
       "    </tr>\n",
       "    <tr>\n",
       "      <th>628</th>\n",
       "      <td>2024-12-30</td>\n",
       "      <td>2319</td>\n",
       "    </tr>\n",
       "    <tr>\n",
       "      <th>629</th>\n",
       "      <td>2024-12-31</td>\n",
       "      <td>2910</td>\n",
       "    </tr>\n",
       "    <tr>\n",
       "      <th>630</th>\n",
       "      <td>2025-01-01</td>\n",
       "      <td>809</td>\n",
       "    </tr>\n",
       "  </tbody>\n",
       "</table>\n",
       "<p>631 rows × 2 columns</p>\n",
       "</div>"
      ],
      "text/plain": [
       "    start_date   RIDE\n",
       "0   2023-04-12   7034\n",
       "1   2023-04-13  31630\n",
       "2   2023-04-14  42935\n",
       "3   2023-04-15  52882\n",
       "4   2023-04-16  52548\n",
       "..         ...    ...\n",
       "626 2024-12-28   1438\n",
       "627 2024-12-29   1388\n",
       "628 2024-12-30   2319\n",
       "629 2024-12-31   2910\n",
       "630 2025-01-01    809\n",
       "\n",
       "[631 rows x 2 columns]"
      ]
     },
     "execution_count": 13,
     "metadata": {},
     "output_type": "execute_result"
    }
   ],
   "source": [
    "hist_rides.groupby(Grouper(key='start_date', freq='D'))['RIDE'].sum().reset_index()"
   ]
  },
  {
   "cell_type": "code",
   "execution_count": 15,
   "id": "1ed9f75e-aeae-4e94-b7ab-cafa48943e33",
   "metadata": {},
   "outputs": [
    {
     "data": {
      "text/plain": [
       "<Axes: xlabel='start_date', ylabel='RIDE'>"
      ]
     },
     "execution_count": 15,
     "metadata": {},
     "output_type": "execute_result"
    },
    {
     "data": {
      "image/png": "[encoded data removed]",
      "text/plain": [
       "<Figure size 1500x500 with 1 Axes>"
      ]
     },
     "metadata": {},
     "output_type": "display_data"
    }
   ],
   "source": [
    "# let's first check the overall trend\n",
    "# plotting number of rides per week sep\n",
    "fig, axes = plt.subplots(figsize=(15, 5))\n",
    "\n",
    "sns.lineplot(\n",
    "    x='start_date', \n",
    "    y='RIDE', \n",
    "    data=hist_rides.groupby(Grouper(key='start_date', freq='W'))['RIDE'].sum().reset_index()\n",
    ")"
   ]
  },
  {
   "cell_type": "code",
   "execution_count": null,
   "id": "721350c4-adcc-47ed-abe1-abb51424c16a",
   "metadata": {},
   "outputs": [],
   "source": [
    "# extracting time parameters for aggregations\n",
    "hist_rides['MONTH'] = hist_rides['start_date'].dt.month\n",
    "hist_rides['WEEK_DAY'] = hist_rides['start_date'].dt.weekday\n",
    "hist_rides['START_HOUR'] = hist_rides['start_date'].dt.hour\n",
    "hist_rides['END_HOUR'] = hist_rides['end_date'].dt.hour\n",
    "hist_rides['WEEK_OF_YEAR'] = hist_rides['start_date'].dt.isocalendar().week"
   ]
  },
  {
   "cell_type": "code",
   "execution_count": null,
   "id": "ede1a72a-6827-45a6-9fa7-ab6bb3989378",
   "metadata": {},
   "outputs": [],
   "source": [
    "# mask for april to november\n",
    "mask = hist_rides['MONTH'].between(4,11)"
   ]
  },
  {
   "cell_type": "code",
   "execution_count": null,
   "id": "f24de297-9648-4db3-94fc-3d043108099d",
   "metadata": {},
   "outputs": [],
   "source": [
    "# performing desired aggregations\n",
    "agg_by_month = hist_rides[mask]['MONTH'].value_counts(normalize=True).reset_index()\n",
    "agg_by_weekday = hist_rides[mask]['WEEK_DAY'].value_counts(normalize=True).reset_index()\n",
    "agg_by_start_hour = hist_rides[mask]['START_HOUR'].value_counts(normalize=True).reset_index()\n",
    "agg_by_end_hour = hist_rides[mask]['END_HOUR'].value_counts(normalize=True).reset_index()"
   ]
  },
  {
   "cell_type": "code",
   "execution_count": null,
   "id": "5d64e720-4508-48e0-9acd-5e5655c373e3",
   "metadata": {},
   "outputs": [],
   "source": [
    "# plotting aggregations\n",
    "fig, axes = plt.subplots(2, 2, figsize=(25, 15))\n",
    "\n",
    "sns.barplot(x='MONTH', y='proportion', data=agg_by_month, ax=axes[0][0])\n",
    "sns.barplot(x='WEEK_DAY', y='proportion', data=agg_by_weekday, ax=axes[0][1])\n",
    "sns.barplot(x='START_HOUR', y='proportion', data=agg_by_start_hour, ax=axes[1][0])\n",
    "sns.barplot(x='END_HOUR', y='proportion', data=agg_by_end_hour, ax=axes[1][1])\n",
    "sns.barplot(x='END_HOUR', y='proportion', data=agg_by_end_hour, ax=axes[1][1])\n",
    "\n",
    "axes[0][0].set_title('Proportion of rides per Month')\n",
    "axes[0][1].set_title('Proportion of rides per Week Day')\n",
    "axes[1][0].set_title('Proportion of rides per Ride Start Hour')\n",
    "axes[1][1].set_title('Proportion of rides per Ride End Hour')"
   ]
  },
  {
   "cell_type": "code",
   "execution_count": null,
   "id": "6e7374b1-5fa6-41c5-acbf-032cd6f76236",
   "metadata": {},
   "outputs": [],
   "source": []
  },
  {
   "cell_type": "markdown",
   "id": "5136adb7-a1de-49ff-80e1-44b73d572c2c",
   "metadata": {},
   "source": [
    "Based on the charts above, it's possible to state the following:\n",
    "* July to September (not susprisingly given the warmer weather) are the months with the highest number of rides which decrease sharply after October,\n",
    "* Riders tend to perfer to ride the most on Fridays and Saturdays and the least on Mondays.\n",
    "* The number of rides increases sharply from 9AM to 9PM and decreases substentialy from 10PM to 8AM for both departures and arrivals at stations"
   ]
  },
  {
   "cell_type": "markdown",
   "id": "46fbe9e2-8e65-4c57-9ecc-e66621a3abf3",
   "metadata": {
    "jp-MarkdownHeadingCollapsed": true
   },
   "source": [
    "## Explore the most popular stations and rides"
   ]
  },
  {
   "cell_type": "code",
   "execution_count": null,
   "id": "e6e38564-aac8-4783-b13b-7a5f23d14050",
   "metadata": {},
   "outputs": [],
   "source": [
    "# most popular departure stations\n",
    "agg_by_start_station = hist_rides['name_start_station'].value_counts(normalize=True).reset_index()\n",
    "agg_by_start_station['CUM_PROPORTIONS'] = agg_by_start_station['proportion'].cumsum()\n",
    "agg_by_start_station.head(1000)"
   ]
  },
  {
   "cell_type": "markdown",
   "id": "0ce48953-3fb5-4798-97c5-2b8a1de97e62",
   "metadata": {},
   "source": [
    "80% of the departures tend to occur within 500 stations"
   ]
  },
  {
   "cell_type": "code",
   "execution_count": null,
   "id": "d86454d2-4817-4bb4-9e59-9b955794955d",
   "metadata": {},
   "outputs": [],
   "source": [
    "# most popular arrival stations neighbordhood\n",
    "agg_by_end_station = hist_rides['name_end_station'].value_counts(normalize=True).reset_index()\n",
    "agg_by_end_station['CUM_PROPORTIONS'] = agg_by_end_station['proportion'].cumsum()\n",
    "agg_by_end_station.head(1000)"
   ]
  },
  {
   "cell_type": "markdown",
   "id": "dcb51f5b-916e-46cb-9ded-7955257d2517",
   "metadata": {},
   "source": [
    "The end stations follows the same patterns as the departure ones"
   ]
  },
  {
   "cell_type": "code",
   "execution_count": null,
   "id": "bd1b917c-1bf1-4c3d-92bf-0b8d97664326",
   "metadata": {},
   "outputs": [],
   "source": [
    "# checking the most popular ride routes\n",
    "agg_by_route = (\n",
    "    hist_rides[['name_start_station','name_end_station']]\n",
    "    .value_counts(normalize=True)\n",
    "    .reset_index()\n",
    ")\n",
    "agg_by_route['CUM_PROPORTIONS'] = agg_by_route['proportion'].cumsum()\n",
    "agg_by_route['CIRCULAR_RIDE_FLAG'] = agg_by_route.apply(\n",
    "    lambda row: 1 if row['name_start_station'] == row['name_end_station'] else 0, axis=1\n",
    ")"
   ]
  },
  {
   "cell_type": "code",
   "execution_count": null,
   "id": "cacdf54c-50f3-4d2f-9c66-60172bc29c5d",
   "metadata": {},
   "outputs": [],
   "source": [
    "# number of unique rides\n",
    "agg_by_route.shape[0]"
   ]
  },
  {
   "cell_type": "code",
   "execution_count": null,
   "id": "cb28b1e8-12c3-444f-8898-63eb2b15078c",
   "metadata": {},
   "outputs": [],
   "source": [
    "agg_by_route"
   ]
  },
  {
   "cell_type": "code",
   "execution_count": null,
   "id": "8472342c-af4e-4829-b8e1-d762205dc516",
   "metadata": {},
   "outputs": [],
   "source": [
    "hist_rides['CIRCULAR_RIDE_FLAG'] = hist_rides.apply(\n",
    "    lambda row: 1 if row['name_start_station'] == row['ENDSTATIONNAME'] else 0, axis=1\n",
    ")"
   ]
  },
  {
   "cell_type": "code",
   "execution_count": null,
   "id": "bae7768f-b2d5-41d9-87a8-fe7eb3c3359b",
   "metadata": {},
   "outputs": [],
   "source": [
    "# checking for circular rides (start and end stations are the same)\n",
    "agg_by_circular_routes = (\n",
    "    hist_rides['CIRCULAR_RIDE_FLAG']\n",
    "    .value_counts(normalize=True)\n",
    "    .reset_index()\n",
    ")"
   ]
  },
  {
   "cell_type": "code",
   "execution_count": null,
   "id": "6ccbca13-f8d1-4abe-a22a-9b5a5abf57d0",
   "metadata": {},
   "outputs": [],
   "source": [
    "agg_by_circular_routes"
   ]
  },
  {
   "cell_type": "markdown",
   "id": "3841f7f4-09b8-401d-b13c-602b4da5bc5c",
   "metadata": {},
   "source": [
    "There around 583 k different rides that take place within the 165 bixi stations. Of those, only 4% are cicular (start and end station are the same)"
   ]
  },
  {
   "cell_type": "markdown",
   "id": "cd1e2fcd-2fb4-47fc-9935-1b56294a5f40",
   "metadata": {},
   "source": [
    "## What are the number of average available spots day of the week, month and hour of the day ?"
   ]
  },
  {
   "cell_type": "markdown",
   "id": "bfd2da4b-357a-4ccd-9d34-7bb5c09ebe54",
   "metadata": {},
   "source": [
    "Our target variable is number of bikes available per station and not number of trips as pervioulsy explored. Thus, it's necessary to calculate our target varibale overtime as there is not historical information on this. The only data availabe is, unfortunately, the live one provided by Bixi through an API."
   ]
  },
  {
   "cell_type": "code",
   "execution_count": null,
   "id": "b3a7276d-de73-4210-9fbc-3d885cdb4646",
   "metadata": {},
   "outputs": [],
   "source": [
    "# importining station capacity and cleaning station name\n",
    "stations_capacity = get_stations_capacity(STATION_CAPACITY_URL)\n",
    "stations_capacity['station_name'] = standarize_station_name(stations_capacity['station_name'])"
   ]
  },
  {
   "cell_type": "code",
   "execution_count": null,
   "id": "7d015c17-258a-42d0-bb9a-0868e3225384",
   "metadata": {},
   "outputs": [],
   "source": [
    "hist_rides['MONTH'] = hist_rides['start_date'].dt.month\n",
    "hist_rides['WEEK_DAY'] = hist_rides['start_date'].dt.weekday\n",
    "hist_rides['START_HOUR'] = hist_rides['start_date'].dt.hour\n",
    "hist_rides['END_HOUR'] = hist_rides['end_date'].dt.hour"
   ]
  },
  {
   "cell_type": "markdown",
   "id": "d0e402ef-1209-473a-93d9-9352d9a3c6c3",
   "metadata": {},
   "source": [
    "## Explore weather data"
   ]
  }
 ],
 "metadata": {
  "kernelspec": {
   "display_name": "Python 3 (ipykernel)",
   "language": "python",
   "name": "python3"
  },
  "language_info": {
   "codemirror_mode": {
    "name": "ipython",
    "version": 3
   },
   "file_extension": ".py",
   "mimetype": "text/x-python",
   "name": "python",
   "nbconvert_exporter": "python",
   "pygments_lexer": "ipython3",
   "version": "3.10.12"
  }
 },
 "nbformat": 4,
 "nbformat_minor": 5
}
