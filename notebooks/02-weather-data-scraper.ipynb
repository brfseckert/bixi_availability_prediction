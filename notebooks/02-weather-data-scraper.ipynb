{
 "cells": [
  {
   "cell_type": "code",
   "execution_count": 103,
   "id": "b600daea-e35f-4ba7-811b-f63f8214ba5e",
   "metadata": {},
   "outputs": [],
   "source": [
    "import requests\n",
    "import unicodecsv\n",
    "from bs4 import BeautifulSoup\n",
    "from pandas import DataFrame, read_csv, concat"
   ]
  },
  {
   "cell_type": "code",
   "execution_count": 104,
   "id": "fde8c606-2f1b-4fd1-b0b1-667ff695e68e",
   "metadata": {},
   "outputs": [],
   "source": [
    "pd.set_option('display.max_rows', 1000)\n",
    "pd.set_option('display.max_columns', 50)"
   ]
  },
  {
   "cell_type": "code",
   "execution_count": null,
   "id": "1bf29673-3573-47e6-9682-4fae6a1a76f0",
   "metadata": {},
   "outputs": [],
   "source": [
    "def get_hourly_weather_data(stationID: int, year: str, month: str) -> DataFrame:\n",
    "    \"\"\"\n",
    "    Reads and transfrom data from climate weather api based on the data parameters into a dataframe\n",
    "    \"\"\"\n",
    "    base_url = 'http://climate.weather.gc.ca/climate_data/bulk_data_e.html?'\n",
    "    query_url = 'format=csv&stationID={}&Year={}&Month={}&timeframe=1'.format(stationID, year, month)\n",
    "    api_endpoint = base_url + query_url\n",
    "    return read_csv(api_endpoint, skiprows=0)\n",
    "\n",
    "# List of months and years to iterate with\n",
    "years = [ y for y in range(2014, 2024)]\n",
    "months = [ f'0{m}' if m < 10 else f'{m}' for m in range(1, 13)]\n",
    "\n",
    "weather_data = concat([\n",
    "    get_hourly_weather_data(30165, year, month)\n",
    "    for year in years\n",
    "    for month in months\n",
    "])\n",
    "\n",
    "weather_data.to_csv('''\n",
    "/mnt/c/Users/felip/Documents/knowledge/ml_projects/protifolio/bixi_ride_predictions/data/hist_weather_data.csv\n",
    "''')"
   ]
  }
 ],
 "metadata": {
  "kernelspec": {
   "display_name": "Python 3 (ipykernel)",
   "language": "python",
   "name": "python3"
  },
  "language_info": {
   "codemirror_mode": {
    "name": "ipython",
    "version": 3
   },
   "file_extension": ".py",
   "mimetype": "text/x-python",
   "name": "python",
   "nbconvert_exporter": "python",
   "pygments_lexer": "ipython3",
   "version": "3.10.12"
  }
 },
 "nbformat": 4,
 "nbformat_minor": 5
}
